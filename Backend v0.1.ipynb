{
 "cells": [
  {
   "cell_type": "code",
   "execution_count": 1,
   "id": "d2879c48",
   "metadata": {},
   "outputs": [],
   "source": [
    "import selenium\n",
    "from selenium import webdriver\n",
    "from selenium.webdriver.chrome.service import Service\n",
    "#from webdriver_manager.chrome import ChromeDriverManager\n",
    "from selenium.webdriver.common.by import By\n",
    "from selenium.webdriver.support.ui import Select\n",
    "from selenium.webdriver.common.action_chains import ActionChains\n",
    "import time\n",
    "import random\n",
    "\n",
    "options = webdriver.ChromeOptions()\n",
    "#options.add_argument('--headless')\n",
    "options.add_argument('--no-sandbox')\n",
    "options.add_argument('--disable-dev-shm-usage')"
   ]
  },
  {
   "cell_type": "code",
   "execution_count": 2,
   "id": "985d06c2",
   "metadata": {},
   "outputs": [],
   "source": [
    "def frame_switch(name):\n",
    "    driver.switch_to.frame(driver.find_element_by_name(name))"
   ]
  },
  {
   "cell_type": "code",
   "execution_count": 3,
   "id": "5feacaff",
   "metadata": {},
   "outputs": [],
   "source": [
    "s = Service('C:\\\\Users\\\\Jake\\\\Documents\\\\Maryville\\\\Chromedriver\\\\chromedriver.exe')\n",
    "site = ('https://www.amazon.com/books')\n",
    "\n",
    "#driver = webdriver.Chrome(service = s, options=options)\n",
    "#driver.maximize_window()\n",
    "#driver.get(site)"
   ]
  },
  {
   "cell_type": "code",
   "execution_count": 4,
   "id": "779eeb6a",
   "metadata": {},
   "outputs": [],
   "source": [
    "#refresh page\n",
    "#driver.refresh()"
   ]
  },
  {
   "cell_type": "code",
   "execution_count": 5,
   "id": "0c225cda",
   "metadata": {},
   "outputs": [],
   "source": [
    "# open the history book genre page\n",
    "\n",
    "# time.sleep(1)\n",
    "# driver.find_element(By.XPATH, '//*[@id=\"s-refinements\"]/div[3]/ul/li[15]/span').click()"
   ]
  },
  {
   "cell_type": "code",
   "execution_count": 7,
   "id": "246bc769",
   "metadata": {},
   "outputs": [],
   "source": [
    "# click on a book from the top rated section (change the last li[] to change the selection)\n",
    "\n",
    "# driver.find_element(By.XPATH, '//*[@id=\"a-page\"]/div[2]/div[2]/div[1]/div[3]/div/div[2]/div[2]/ul/li[1]').click()"
   ]
  },
  {
   "cell_type": "code",
   "execution_count": 8,
   "id": "f8189597",
   "metadata": {},
   "outputs": [],
   "source": [
    "# click a book from the page\n",
    "# //*[@id=\"search\"]/div[1]/div[1]/div/span[1]/div[1]/div[4] <-- the number behind the div needs to be changed\n",
    "# to select different books \n",
    "# example below\n",
    "# driver.find_element(By.XPATH, '//*[@id=\"search\"]/div[1]/div[1]/div/span[1]/div[1]/div[4]/div/div/div/div/div/div[2]/div/div/div[1]/h2/a').click()"
   ]
  },
  {
   "cell_type": "code",
   "execution_count": 78,
   "id": "2d7461b0",
   "metadata": {},
   "outputs": [],
   "source": [
    "def history_genre():\n",
    "    try:\n",
    "        x = random.randint(1, 8)\n",
    "        driver = webdriver.Chrome(service = s, options=options)\n",
    "        driver.maximize_window()\n",
    "        driver.get(site)\n",
    "        driver.refresh()\n",
    "        driver.find_element(By.XPATH, '//*[@id=\"s-refinements\"]/div[3]/ul/li[15]/span').click()\n",
    "        driver.find_element(By.XPATH, f'//*[@id=\"a-page\"]/div[2]/div[2]/div[1]/div[3]/div/div[2]/div[2]/ul/li[{x}]').click()\n",
    "    except:\n",
    "        print('try again')"
   ]
  },
  {
   "cell_type": "code",
   "execution_count": 80,
   "id": "6875ee77",
   "metadata": {},
   "outputs": [],
   "source": [
    "history_genre()"
   ]
  },
  {
   "cell_type": "code",
   "execution_count": 103,
   "id": "800bc10e",
   "metadata": {},
   "outputs": [],
   "source": [
    "def scifi_genre():\n",
    "    try:\n",
    "        x = random.randint(1, 8)\n",
    "        driver = webdriver.Chrome(service = s, options=options)\n",
    "        driver.maximize_window()\n",
    "        driver.get(site)\n",
    "        driver.refresh()\n",
    "        driver.find_element(By.XPATH, '//*[@id=\"s-refinements\"]/div[3]/ul/li[26]/span/a/span').click()\n",
    "        driver.find_element(By.XPATH, f'//*[@id=\"a-page\"]/div[2]/div[2]/div[1]/div[4]/div/div[2]/div[2]/ul/li[{x}]').click()\n",
    "    except:\n",
    "        print('try again')"
   ]
  },
  {
   "cell_type": "code",
   "execution_count": 104,
   "id": "fe1e1cba",
   "metadata": {},
   "outputs": [],
   "source": [
    "scifi_genre()"
   ]
  },
  {
   "cell_type": "code",
   "execution_count": 109,
   "id": "b7b6971e",
   "metadata": {},
   "outputs": [],
   "source": [
    "def romance_genre():\n",
    "    try:\n",
    "        x = random.randint(1, 8)\n",
    "        driver = webdriver.Chrome(service = s, options=options)\n",
    "        driver.maximize_window()\n",
    "        driver.get(site)\n",
    "        driver.refresh()\n",
    "        driver.find_element(By.XPATH, '//*[@id=\"s-refinements\"]/div[3]/ul/li[26]/span/a/span').click()\n",
    "        driver.find_element(By.XPATH, f'//*[@id=\"a-page\"]/div[2]/div[2]/div[1]/div[4]/div/div[2]/div[2]/ul/li[{x}]/span/div/a/div[2]/div[2]/div[1]/span').click()\n",
    "    except:\n",
    "        print('try again')"
   ]
  },
  {
   "cell_type": "code",
   "execution_count": 110,
   "id": "2ba68a6e",
   "metadata": {},
   "outputs": [],
   "source": [
    "romance_genre()"
   ]
  },
  {
   "cell_type": "code",
   "execution_count": 113,
   "id": "93be9356",
   "metadata": {},
   "outputs": [],
   "source": [
    "def mystery_genre():\n",
    "    try:\n",
    "        x = random.randint(1, 8)\n",
    "        driver = webdriver.Chrome(service = s, options=options)\n",
    "        driver.maximize_window()\n",
    "        driver.get(site)\n",
    "        driver.refresh()\n",
    "        driver.find_element(By.XPATH, '//*[@id=\"s-refinements\"]/div[3]/ul/li[21]/span/a/span').click()\n",
    "        driver.find_element(By.XPATH, f'//*[@id=\"a-page\"]/div[2]/div[2]/div[1]/div[3]/div/div[2]/div[2]/ul/li[{x}]/span/div/a').click()\n",
    "    except:\n",
    "        print('try again')"
   ]
  },
  {
   "cell_type": "code",
   "execution_count": 114,
   "id": "3147bdd0",
   "metadata": {},
   "outputs": [],
   "source": [
    "mystery_genre()"
   ]
  },
  {
   "cell_type": "code",
   "execution_count": 116,
   "id": "50d5df28",
   "metadata": {},
   "outputs": [],
   "source": [
    "def childrens_genre():\n",
    "    try:\n",
    "        x = random.randint(1, 8)\n",
    "        driver = webdriver.Chrome(service = s, options=options)\n",
    "        driver.maximize_window()\n",
    "        driver.get(site)\n",
    "        driver.refresh()\n",
    "        driver.find_element(By.XPATH, '//*[@id=\"s-refinements\"]/div[3]/ul/li[6]/span/a/span').click()\n",
    "        driver.find_element(By.XPATH, f'//*[@id=\"a-page\"]/div[2]/div[2]/div[1]/div[5]/div/div[2]/div[2]/ul/li[{x}]/span/div/a').click()\n",
    "    except:\n",
    "        print('try again')"
   ]
  },
  {
   "cell_type": "code",
   "execution_count": 119,
   "id": "905be563",
   "metadata": {},
   "outputs": [],
   "source": [
    "childrens_genre()"
   ]
  },
  {
   "cell_type": "code",
   "execution_count": 124,
   "id": "fc6be777",
   "metadata": {},
   "outputs": [],
   "source": [
    "def biographies_genre():\n",
    "    try:\n",
    "        x = random.randint(1, 8)\n",
    "        driver = webdriver.Chrome(service = s, options=options)\n",
    "        driver.maximize_window()\n",
    "        driver.get(site)\n",
    "        driver.refresh()\n",
    "        driver.find_element(By.XPATH, '//*[@id=\"s-refinements\"]/div[3]/ul/li[3]/span/a/span').click()\n",
    "        driver.find_element(By.XPATH, f'//*[@id=\"a-page\"]/div[2]/div[2]/div[1]/div[6]/div/div[2]/div[2]/ul/li[{x}]/span/div/a/div[1]/div').click()\n",
    "    except:\n",
    "        print('try again')"
   ]
  },
  {
   "cell_type": "code",
   "execution_count": 125,
   "id": "7c4b7e00",
   "metadata": {},
   "outputs": [],
   "source": [
    "biographies_genre()"
   ]
  },
  {
   "cell_type": "code",
   "execution_count": null,
   "id": "f3e6fe78",
   "metadata": {},
   "outputs": [],
   "source": []
  }
 ],
 "metadata": {
  "kernelspec": {
   "display_name": "Python 3 (ipykernel)",
   "language": "python",
   "name": "python3"
  },
  "language_info": {
   "codemirror_mode": {
    "name": "ipython",
    "version": 3
   },
   "file_extension": ".py",
   "mimetype": "text/x-python",
   "name": "python",
   "nbconvert_exporter": "python",
   "pygments_lexer": "ipython3",
   "version": "3.9.7"
  }
 },
 "nbformat": 4,
 "nbformat_minor": 5
}
